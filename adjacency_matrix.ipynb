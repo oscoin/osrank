{
 "cells": [
  {
   "cell_type": "code",
   "execution_count": 3,
   "metadata": {},
   "outputs": [
    {
     "name": "stdout",
     "output_type": "stream",
     "text": [
      "['p1' 'p2' 'p3' 'a1' 'a2' 'a3']\n",
      "[[0.         0.57142857 0.         0.42857143 0.         0.        ]\n",
      " [0.         0.         0.         0.         1.         0.        ]\n",
      " [0.28571429 0.28571429 0.         0.         0.39285714 0.03571429]\n",
      " [1.         0.         0.         0.         0.         0.        ]\n",
      " [0.         0.33333333 0.66666667 0.         0.         0.        ]\n",
      " [0.         0.         1.         0.         0.         0.        ]]\n"
     ]
    }
   ],
   "source": [
    "import numpy as np\n",
    "from numpy.linalg import norm\n",
    "\n",
    "def weighted_adjmatrix(adjlist, n1, n2):\n",
    "    matrix = []\n",
    "    for node in n1:\n",
    "        weights = {endnode:int(weight)\n",
    "                   for w in adjlist.get(node, {})\n",
    "                   for endnode, weight in w.items()}\n",
    "        matrix.append([weights.get(endnode, 0) for endnode in n2])\n",
    "    matrix = np.array(matrix)\n",
    "    return matrix.astype(np.float)\n",
    "\n",
    "def l1_row(row):\n",
    "    row_sum = norm(row, ord=1)\n",
    "    if row_sum == 0:\n",
    "        return row\n",
    "    else:\n",
    "        return row / row_sum\n",
    "\n",
    "def norm_rows(mat):\n",
    "    return np.apply_along_axis(l1_row,1,mat)\n",
    "\n",
    "def transpose(mat):\n",
    "    return np.transpose(mat)\n",
    "\n",
    "# weight variables of G\n",
    "## project -> account\n",
    "d = 4.0 / 7.0\n",
    "m = 2.0 / 7.0\n",
    "c = 1.0 / 7.0\n",
    "## account -> project\n",
    "m_ = 3.0 / 5.0\n",
    "c_ = 2.0 / 5.0\n",
    "\n",
    "# list of all projects / accounts\n",
    "proj = ['p1', 'p2', 'p3']\n",
    "acc = ['a1', 'a2', 'a3']\n",
    "\n",
    "# TODO: there might be better datastructures in numpy for this, also networkx\n",
    "# good for visualization\n",
    "\n",
    "depends_on = {'p1' : [{'p2': 1}], 'p3' : [{'p1' : 1}, {'p2' : 1}]}\n",
    "contributions = {'p1' : [{'a1': 100}], 'p2' : [{'a2': 30}], 'p3' : [{'a2' : 60}, {'a3' : 20}]}\n",
    "maintainers = {'p1' : [{'a1': 1}], 'p2' : [{'a2': 1}], 'p3' : [{'a2' : 1}]}\n",
    "\n",
    "D = weighted_adjmatrix(depends_on, n1=proj, n2=proj)\n",
    "C = weighted_adjmatrix(contributions, n1=proj, n2=acc)\n",
    "M = weighted_adjmatrix(maintainers, n1=proj, n2=acc)\n",
    "acc0 = np.zeros((np.size(acc),np.size(acc)))\n",
    "\n",
    "p_p = d * norm_rows(D)\n",
    "p_a = m * norm_rows(M) + c * norm_rows(C)\n",
    "a_p = np.multiply((m_ * transpose(M)), norm_rows(transpose(C))) + c_ * norm_rows(transpose(C))\n",
    "\n",
    "# combine the matrices\n",
    "adjmat = np.concatenate((np.concatenate((p_p,a_p), axis=0),np.concatenate((p_a,acc0), axis=0)), axis=1)\n",
    "\n",
    "print(np.concatenate((proj,acc), axis=0))\n",
    "print(norm_rows(adjmat))\n",
    "\n",
    "# Notes\n",
    "# hadamat product: np.multiply(a,b)\n"
   ]
  },
  {
   "cell_type": "code",
   "execution_count": null,
   "metadata": {},
   "outputs": [],
   "source": []
  }
 ],
 "metadata": {
  "kernelspec": {
   "display_name": "Python 3",
   "language": "python",
   "name": "python3"
  },
  "language_info": {
   "codemirror_mode": {
    "name": "ipython",
    "version": 3
   },
   "file_extension": ".py",
   "mimetype": "text/x-python",
   "name": "python",
   "nbconvert_exporter": "python",
   "pygments_lexer": "ipython3",
   "version": "3.5.3"
  }
 },
 "nbformat": 4,
 "nbformat_minor": 2
}
